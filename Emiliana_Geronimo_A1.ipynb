{
  "nbformat": 4,
  "nbformat_minor": 0,
  "metadata": {
    "colab": {
      "provenance": []
    },
    "kernelspec": {
      "display_name": "Python 3",
      "language": "python",
      "name": "python3"
    },
    "language_info": {
      "codemirror_mode": {
        "name": "ipython",
        "version": 3
      },
      "file_extension": ".py",
      "mimetype": "text/x-python",
      "name": "python",
      "nbconvert_exporter": "python",
      "pygments_lexer": "ipython3",
      "version": "3.8.5"
    }
  },
  "cells": [
    {
      "cell_type": "markdown",
      "metadata": {
        "id": "Tajfsk_7JY3E"
      },
      "source": [
        "**Note to grader:** Each question consists of parts, e.g. Q1(i), Q1(ii), etc. Each part must be graded on scale of 0-4 scale, following the standard NJIT convention (A: 4, B+: 3.5, B: 3, C+: 2.5, C: 2, D: 1, F: 0).\n",
        "\n",
        "This review assignment is worth proportionally less than the others (40% of the weight of the Assignments 2-6). For Canvas to apply the weighting properly, the total score for this assignment must be re-scaled to 40."
      ]
    },
    {
      "cell_type": "markdown",
      "metadata": {
        "id": "e8SKy70z2osa"
      },
      "source": [
        "----\n",
        "\n",
        "<i>General instructions for this and future notebooks:</i>\n",
        "1. To run a cell and move to the next cell: Hold down <strong>Shift</strong> and press <strong>Enter</strong>.\n",
        "2. To run a cell and stay in the same cell: Hold down <b>Ctrl</b> and press <b>Enter</b>.\n",
        "3. Use the arrow up and down to navigate or do it manually as you prefer.\n",
        "4. Escape from typing a cell: Hit <b>Esc</b>.\n",
        "\n",
        "---------\n",
        "\n",
        "<b>Note: </b>\n",
        "\n",
        "> You must run/evaluate all cells. <b>Order of cell execution is important.</b>\n",
        "\n",
        "\n",
        "\n",
        "> You must work directly out of a copy of the assignment notebook given to you, in the exact order.\n"
      ]
    },
    {
      "cell_type": "code",
      "metadata": {
        "id": "I-sfBXk9AkfN"
      },
      "source": [
        "# Grader's area\n",
        "\n",
        "import numpy as np\n",
        "\n",
        "# This assignment contains 5 exercises each with at most 3 parts.\n",
        "# We initialize a 6x4 array M, containing zeros.\n",
        "# The grade for question i, part j, will be recorded in M[i,j].\n",
        "# Then the total grade can be easily computed in the last grader's area.\n",
        "\n",
        "maxScore = 0\n",
        "M = np.zeros((6,4))"
      ],
      "execution_count": null,
      "outputs": []
    },
    {
      "cell_type": "markdown",
      "metadata": {
        "id": "ly4laI7pfGJO"
      },
      "source": [
        "# **Assignment 1**\n",
        "The first assignment walks you through some elements of Python/Numpy. It is meant mostly to familiarize you with Jupyter notebooks. It includes cells for demonstration, leading to clearly-marked cells for questions.\n",
        "\n"
      ]
    },
    {
      "cell_type": "markdown",
      "metadata": {
        "id": "8owP8xk_yi6h"
      },
      "source": [
        "-----------------------"
      ]
    },
    {
      "cell_type": "markdown",
      "metadata": {
        "id": "r_tl0TKffGJP"
      },
      "source": [
        "### **Part 1: NumPy walk-through**\n",
        "\n",
        "Let's look at matrix A and how it is presented in Numpy:\n",
        "\\begin{equation*}\n",
        "A =\n",
        "\\begin{pmatrix}\n",
        "1 & 2 & 3 \\\\\n",
        "4 & 5 & 6 \\\\\n",
        "7 & 8 & 9\n",
        "\\end{pmatrix}\n",
        "\\end{equation*}"
      ]
    },
    {
      "cell_type": "code",
      "metadata": {
        "id": "ik4Gngp2fGJQ",
        "colab": {
          "base_uri": "https://localhost:8080/"
        },
        "outputId": "01a90ad5-b6dc-459d-ecd9-3ab0407ea1e6"
      },
      "source": [
        "import numpy as np\n",
        "\n",
        "# here the notation np.X invokes a function X from module np\n",
        "#    where np is an alias for numpy as note in line-1 above.\n",
        "\n",
        "A = np.array([[1,2,3],[4,5,6],[7,8,9]], dtype = float)\n",
        "print('This is how matrix A will be presented in Numpy:\\n\\n {}\\n'.format(A))\n",
        "\n",
        "# Example of describing A\n",
        "print('We just create a {}'.format(type(A)))\n",
        "print('Our template has shape as {} with total size of {}'.format(A.shape, A.size))\n",
        "print('The total dimension of A is {}'.format(A.ndim))\n",
        "\n",
        "# Multi-line print out\n",
        "print('''The data types of elements of A are {},\n",
        "        which consumes {} bytes'''.format(A.dtype, A.nbytes))"
      ],
      "execution_count": 2,
      "outputs": [
        {
          "output_type": "stream",
          "name": "stdout",
          "text": [
            "This is how matrix A will be presented in Numpy:\n",
            "\n",
            " [[1. 2. 3.]\n",
            " [4. 5. 6.]\n",
            " [7. 8. 9.]]\n",
            "\n",
            "We just create a <class 'numpy.ndarray'>\n",
            "Our template has shape as (3, 3) with total size of 9\n",
            "The total dimension of A is 2\n",
            "The data types of elements of A are float64,\n",
            "        which consumes 72 bytes\n"
          ]
        }
      ]
    },
    {
      "cell_type": "code",
      "metadata": {
        "id": "oqhQyAZTfGJV"
      },
      "source": [
        "# create a copy of A with integer type\n",
        "A_copy = np.array(A, dtype=np.int32)"
      ],
      "execution_count": null,
      "outputs": []
    },
    {
      "cell_type": "markdown",
      "metadata": {
        "id": "2XxgGLoIfGJY"
      },
      "source": [
        "#### NumPy array operations"
      ]
    },
    {
      "cell_type": "code",
      "metadata": {
        "id": "scImnsyJfGJY",
        "colab": {
          "base_uri": "https://localhost:8080/"
        },
        "outputId": "13d92896-1ed5-483d-b742-4c792d2eb0a1"
      },
      "source": [
        "# Turn a python list to numpy array\n",
        "checking_acct = [10.1, 2.3, -3, 100]\n",
        "checking_acct_array = np.asarray(checking_acct)\n",
        "type(checking_acct_array)"
      ],
      "execution_count": null,
      "outputs": [
        {
          "output_type": "execute_result",
          "data": {
            "text/plain": [
              "numpy.ndarray"
            ]
          },
          "metadata": {},
          "execution_count": 3
        }
      ]
    },
    {
      "cell_type": "code",
      "metadata": {
        "id": "mHPmhzdOfGJb",
        "colab": {
          "base_uri": "https://localhost:8080/"
        },
        "outputId": "6c92bc2a-aca6-421b-c1cb-a072884ed4cf"
      },
      "source": [
        "# adding $2 to each deposit/withdrawal transaction\n",
        "checking_acct_array + 2"
      ],
      "execution_count": null,
      "outputs": [
        {
          "output_type": "execute_result",
          "data": {
            "text/plain": [
              "array([ 12.1,   4.3,  -1. , 102. ])"
            ]
          },
          "metadata": {},
          "execution_count": 4
        }
      ]
    },
    {
      "cell_type": "code",
      "metadata": {
        "id": "RQAbwx5gfGJe",
        "colab": {
          "base_uri": "https://localhost:8080/"
        },
        "outputId": "4fb53c5c-5a99-4fe4-b346-3274d2c4fbb7"
      },
      "source": [
        "# subtract $0.5 from each transaction\n",
        "checking_acct_array - 0.5"
      ],
      "execution_count": null,
      "outputs": [
        {
          "output_type": "execute_result",
          "data": {
            "text/plain": [
              "array([ 9.6,  1.8, -3.5, 99.5])"
            ]
          },
          "metadata": {},
          "execution_count": 5
        }
      ]
    },
    {
      "cell_type": "code",
      "metadata": {
        "id": "UaMikHWpfGJg",
        "colab": {
          "base_uri": "https://localhost:8080/"
        },
        "outputId": "fcfd2d24-60c7-42d8-a464-03f956300db4"
      },
      "source": [
        "# double it up\n",
        "checking_acct_array * 2"
      ],
      "execution_count": null,
      "outputs": [
        {
          "output_type": "execute_result",
          "data": {
            "text/plain": [
              "array([ 20.2,   4.6,  -6. , 200. ])"
            ]
          },
          "metadata": {},
          "execution_count": 6
        }
      ]
    },
    {
      "cell_type": "code",
      "metadata": {
        "id": "Viiu3ePUfGJi",
        "colab": {
          "base_uri": "https://localhost:8080/"
        },
        "outputId": "8b7732e2-1046-4899-ebdf-dc855513e8a0"
      },
      "source": [
        "# divide the amounts by 3\n",
        "checking_acct_array / 3"
      ],
      "execution_count": null,
      "outputs": [
        {
          "output_type": "execute_result",
          "data": {
            "text/plain": [
              "array([ 3.36666667,  0.76666667, -1.        , 33.33333333])"
            ]
          },
          "metadata": {},
          "execution_count": 7
        }
      ]
    },
    {
      "cell_type": "markdown",
      "metadata": {
        "id": "oGZMC38NfGJl"
      },
      "source": [
        "Note: You can't do the above operation with list. You will have to iterate the list's elements. For example:"
      ]
    },
    {
      "cell_type": "code",
      "metadata": {
        "id": "u6EM8P58fGJl",
        "colab": {
          "base_uri": "https://localhost:8080/"
        },
        "outputId": "d1bd12d7-81bd-4e1b-98af-3ecd77918f19"
      },
      "source": [
        "# to add $2 to each transaction with checking_acct, we must use list comprehension.\n",
        "[x + 2 for x in checking_acct]"
      ],
      "execution_count": null,
      "outputs": [
        {
          "output_type": "execute_result",
          "data": {
            "text/plain": [
              "[12.1, 4.3, -1, 102]"
            ]
          },
          "metadata": {},
          "execution_count": 8
        }
      ]
    },
    {
      "cell_type": "code",
      "metadata": {
        "id": "eYGHGQRhfGJo",
        "colab": {
          "base_uri": "https://localhost:8080/"
        },
        "outputId": "64bbb84a-94c1-41b8-82d7-c78447ef2762"
      },
      "source": [
        "# create a one-dimensional array containing 10 ones\n",
        "np.ones(10)"
      ],
      "execution_count": null,
      "outputs": [
        {
          "output_type": "execute_result",
          "data": {
            "text/plain": [
              "array([1., 1., 1., 1., 1., 1., 1., 1., 1., 1.])"
            ]
          },
          "metadata": {},
          "execution_count": 9
        }
      ]
    },
    {
      "cell_type": "code",
      "metadata": {
        "id": "zU9DzeFtfGJr",
        "colab": {
          "base_uri": "https://localhost:8080/"
        },
        "outputId": "94c6d188-d6c8-4b1c-ab63-2622a93f3a50"
      },
      "source": [
        "# create an identity matrix\n",
        "np.identity(4)"
      ],
      "execution_count": null,
      "outputs": [
        {
          "output_type": "execute_result",
          "data": {
            "text/plain": [
              "array([[1., 0., 0., 0.],\n",
              "       [0., 1., 0., 0.],\n",
              "       [0., 0., 1., 0.],\n",
              "       [0., 0., 0., 1.]])"
            ]
          },
          "metadata": {},
          "execution_count": 11
        }
      ]
    },
    {
      "cell_type": "code",
      "metadata": {
        "id": "bzyiFkjpfGJt",
        "colab": {
          "base_uri": "https://localhost:8080/"
        },
        "outputId": "80182f03-3c7f-40de-fb17-c0ee14e9b9da"
      },
      "source": [
        "# create an array size 1 x 9 including only even numbers starting from 2\n",
        "x = np.arange(2,20,2)\n",
        "x"
      ],
      "execution_count": null,
      "outputs": [
        {
          "output_type": "execute_result",
          "data": {
            "text/plain": [
              "array([ 2,  4,  6,  8, 10, 12, 14, 16, 18])"
            ]
          },
          "metadata": {},
          "execution_count": 10
        }
      ]
    },
    {
      "cell_type": "code",
      "metadata": {
        "id": "Fi7yU_v3fGJw",
        "colab": {
          "base_uri": "https://localhost:8080/"
        },
        "outputId": "10235aad-00d7-4e8a-e1fe-a6d66848d2dd"
      },
      "source": [
        "# reshape x to size 3 x 3 we get the following matrix\n",
        "\n",
        "# Variables in Python (an numpy) are objects.\n",
        "# Each object contains data (like x does), but it is also associated\n",
        "# with methods, i.e. python functions that can apply to it.\n",
        "# When we apply such an operation, we use the notation x.fname, like\n",
        "# below.\n",
        "\n",
        "x = x.reshape(3,3)\n",
        "x"
      ],
      "execution_count": null,
      "outputs": [
        {
          "output_type": "execute_result",
          "data": {
            "text/plain": [
              "array([[ 2,  4,  6],\n",
              "       [ 8, 10, 12],\n",
              "       [14, 16, 18]])"
            ]
          },
          "metadata": {},
          "execution_count": 12
        }
      ]
    },
    {
      "cell_type": "code",
      "metadata": {
        "id": "lhwnA49lfGJy"
      },
      "source": [
        "# transpose x\n",
        "y = x.T"
      ],
      "execution_count": null,
      "outputs": []
    },
    {
      "cell_type": "code",
      "metadata": {
        "id": "-34yj_jDfGJ0",
        "colab": {
          "base_uri": "https://localhost:8080/"
        },
        "outputId": "0512dbac-f0d8-44f4-b609-15c6f38a4c54"
      },
      "source": [
        "# compare two arrays\n",
        "x == y"
      ],
      "execution_count": null,
      "outputs": [
        {
          "output_type": "execute_result",
          "data": {
            "text/plain": [
              "array([[ True, False, False],\n",
              "       [False,  True, False],\n",
              "       [False, False,  True]])"
            ]
          },
          "metadata": {},
          "execution_count": 14
        }
      ]
    },
    {
      "cell_type": "code",
      "metadata": {
        "id": "Akbw9C1PfGJ2",
        "colab": {
          "base_uri": "https://localhost:8080/"
        },
        "outputId": "cd1641e8-d0d5-4a96-b434-4b506b110a19"
      },
      "source": [
        "x == y.T"
      ],
      "execution_count": null,
      "outputs": [
        {
          "output_type": "execute_result",
          "data": {
            "text/plain": [
              "array([[ True,  True,  True],\n",
              "       [ True,  True,  True],\n",
              "       [ True,  True,  True]])"
            ]
          },
          "metadata": {},
          "execution_count": 15
        }
      ]
    },
    {
      "cell_type": "code",
      "metadata": {
        "id": "PjbS0Y8zfGJ5",
        "colab": {
          "base_uri": "https://localhost:8080/"
        },
        "outputId": "1daf98d1-2195-4c6d-a6b1-27dca4a5a3c6"
      },
      "source": [
        "np.array_equal(x,y.T)"
      ],
      "execution_count": null,
      "outputs": [
        {
          "output_type": "execute_result",
          "data": {
            "text/plain": [
              "True"
            ]
          },
          "metadata": {},
          "execution_count": 16
        }
      ]
    },
    {
      "cell_type": "code",
      "metadata": {
        "id": "vC29JsRAfGJ7",
        "colab": {
          "base_uri": "https://localhost:8080/"
        },
        "outputId": "8c9ed0f6-85d5-46fd-abcf-21235717787d"
      },
      "source": [
        "x < y"
      ],
      "execution_count": null,
      "outputs": [
        {
          "output_type": "execute_result",
          "data": {
            "text/plain": [
              "array([[False,  True,  True],\n",
              "       [False, False,  True],\n",
              "       [False, False, False]])"
            ]
          },
          "metadata": {},
          "execution_count": 17
        }
      ]
    },
    {
      "cell_type": "code",
      "metadata": {
        "id": "9CumfUaRfGJ9",
        "colab": {
          "base_uri": "https://localhost:8080/"
        },
        "outputId": "a36f9896-bccb-4bdb-a651-651b3b72fcb5"
      },
      "source": [
        "c = np.ones((3,3))\n",
        "c"
      ],
      "execution_count": null,
      "outputs": [
        {
          "output_type": "execute_result",
          "data": {
            "text/plain": [
              "array([[1., 1., 1.],\n",
              "       [1., 1., 1.],\n",
              "       [1., 1., 1.]])"
            ]
          },
          "metadata": {},
          "execution_count": 18
        }
      ]
    },
    {
      "cell_type": "code",
      "metadata": {
        "id": "8sXMycSpfGJ_",
        "colab": {
          "base_uri": "https://localhost:8080/"
        },
        "outputId": "831f2b65-f708-46b8-b853-00ec8dbbd468"
      },
      "source": [
        "# matrix squaring\n",
        "np.dot(c,c)\n",
        "\n",
        "# or\n",
        "np.matmul(c,c)"
      ],
      "execution_count": null,
      "outputs": [
        {
          "output_type": "execute_result",
          "data": {
            "text/plain": [
              "array([[3., 3., 3.],\n",
              "       [3., 3., 3.],\n",
              "       [3., 3., 3.]])"
            ]
          },
          "metadata": {},
          "execution_count": 19
        }
      ]
    },
    {
      "cell_type": "code",
      "metadata": {
        "id": "phRTWOZwfGKB",
        "colab": {
          "base_uri": "https://localhost:8080/"
        },
        "outputId": "ab0a0991-cad6-4311-8c67-56f224c1dff3"
      },
      "source": [
        "# stacking/merging two multidimensional arrays\n",
        "x = np.arange(10).reshape(2,5)\n",
        "y = np.arange(15).reshape(3,5)\n",
        "xy = np.vstack((x,y))\n",
        "xy"
      ],
      "execution_count": null,
      "outputs": [
        {
          "output_type": "execute_result",
          "data": {
            "text/plain": [
              "array([[ 0,  1,  2,  3,  4],\n",
              "       [ 5,  6,  7,  8,  9],\n",
              "       [ 0,  1,  2,  3,  4],\n",
              "       [ 5,  6,  7,  8,  9],\n",
              "       [10, 11, 12, 13, 14]])"
            ]
          },
          "metadata": {},
          "execution_count": 20
        }
      ]
    },
    {
      "cell_type": "code",
      "metadata": {
        "id": "pwX_qhk4fGKD",
        "colab": {
          "base_uri": "https://localhost:8080/"
        },
        "outputId": "0ab478d2-602b-40ed-e6dc-04532a54db36"
      },
      "source": [
        "x = np.arange(10).reshape(5,2)\n",
        "y = np.arange(15).reshape(5,3)\n",
        "xy = np.hstack((x,y))\n",
        "xy"
      ],
      "execution_count": null,
      "outputs": [
        {
          "output_type": "execute_result",
          "data": {
            "text/plain": [
              "array([[ 0,  1,  0,  1,  2],\n",
              "       [ 2,  3,  3,  4,  5],\n",
              "       [ 4,  5,  6,  7,  8],\n",
              "       [ 6,  7,  9, 10, 11],\n",
              "       [ 8,  9, 12, 13, 14]])"
            ]
          },
          "metadata": {},
          "execution_count": 21
        }
      ]
    },
    {
      "cell_type": "code",
      "metadata": {
        "id": "YCiyIn78fGKF",
        "colab": {
          "base_uri": "https://localhost:8080/"
        },
        "outputId": "9a1b50c9-62fd-47a3-8eca-5b655a24bbfa"
      },
      "source": [
        "# checking statistics for xy\n",
        "from scipy import stats\n",
        "stats.describe(xy)"
      ],
      "execution_count": null,
      "outputs": [
        {
          "output_type": "execute_result",
          "data": {
            "text/plain": [
              "DescribeResult(nobs=5, minmax=(array([0, 1, 0, 1, 2]), array([ 8,  9, 12, 13, 14])), mean=array([4., 5., 6., 7., 8.]), variance=array([10. , 10. , 22.5, 22.5, 22.5]), skewness=array([0., 0., 0., 0., 0.]), kurtosis=array([-1.3, -1.3, -1.3, -1.3, -1.3]))"
            ]
          },
          "metadata": {},
          "execution_count": 22
        }
      ]
    },
    {
      "cell_type": "code",
      "metadata": {
        "id": "jhXIOt8dfGKH",
        "colab": {
          "base_uri": "https://localhost:8080/"
        },
        "outputId": "e43609e5-ce77-4181-c8b8-766add8d2b4c"
      },
      "source": [
        "# generate 20 random records, each has 3 features represented by some random number\n",
        "x = np.random.rand(20,3)\n",
        "\n",
        "# check statistics by feature for these records\n",
        "n, min_max, mean, var, skew, kurt = stats.describe(x)\n",
        "\n",
        "# observe the gather statistics\n",
        "print('''x:\\n {}\\n\\n,n:\\n {}\\n\\n, min_max:\\n {}\\n\\n, mean:\\n {}\\n\\n\n",
        ", var:\\n {}\\n\\n, skew:\\n {}\\n\\n, kurt:\\n {}\\n\\n'''.format(x, n, min_max, mean, var, skew, kurt))"
      ],
      "execution_count": null,
      "outputs": [
        {
          "output_type": "stream",
          "name": "stdout",
          "text": [
            "x:\n",
            " [[0.36809131 0.41938292 0.42734088]\n",
            " [0.79441056 0.37803835 0.62455385]\n",
            " [0.66747615 0.51936682 0.08192818]\n",
            " [0.3412932  0.49122918 0.54725287]\n",
            " [0.90195709 0.02803129 0.64972657]\n",
            " [0.42310774 0.19420928 0.90993575]\n",
            " [0.52354081 0.47992244 0.32399378]\n",
            " [0.09187386 0.59813188 0.80322588]\n",
            " [0.90476379 0.46398593 0.24699513]\n",
            " [0.88378758 0.89997663 0.64137674]\n",
            " [0.2010666  0.88733512 0.82136517]\n",
            " [0.32424918 0.59575343 0.42732603]\n",
            " [0.8046943  0.46205183 0.73199334]\n",
            " [0.28675104 0.56859499 0.8276272 ]\n",
            " [0.05893881 0.12085547 0.58993261]\n",
            " [0.46499044 0.88716185 0.0653769 ]\n",
            " [0.3905692  0.38662215 0.14366734]\n",
            " [0.42866939 0.89720782 0.7417215 ]\n",
            " [0.05912953 0.69467631 0.4518471 ]\n",
            " [0.33427958 0.60268039 0.93750501]]\n",
            "\n",
            ",n:\n",
            " 20\n",
            "\n",
            ", min_max:\n",
            " (array([0.05893881, 0.02803129, 0.0653769 ]), array([0.90476379, 0.89997663, 0.93750501]))\n",
            "\n",
            ", mean:\n",
            " [0.46268201 0.5287607  0.54973459]\n",
            "\n",
            "\n",
            ", var:\n",
            " [0.07728462 0.06162706 0.0732401 ]\n",
            "\n",
            ", skew:\n",
            " [ 0.29508838 -0.14197363 -0.40484635]\n",
            "\n",
            ", kurt:\n",
            " [-1.02386205 -0.44029774 -0.94155116]\n",
            "\n",
            "\n"
          ]
        }
      ]
    },
    {
      "cell_type": "markdown",
      "metadata": {
        "id": "6icgEByffGKK"
      },
      "source": [
        "#### Slice and dice matrix\n",
        "\n",
        "Take out 2 elements in the 1st row, 2nd column, and 3rd row, 3rd column of matrix A from above:\n",
        "\n",
        "$\\begin{equation*}\n",
        "A =\n",
        "\\begin{pmatrix}\n",
        "1 & 2 & 3 \\\\\n",
        "4 & 5 & 6 \\\\\n",
        "7 & 8 & 9\n",
        "\\end{pmatrix}\n",
        "\\end{equation*}\n",
        "$"
      ]
    },
    {
      "cell_type": "code",
      "metadata": {
        "id": "7R8ypS2zfGKN",
        "colab": {
          "base_uri": "https://localhost:8080/"
        },
        "outputId": "7a86a11a-25c1-4f69-b03b-7a608b3e7c70"
      },
      "source": [
        "# numpy is indexed from 0. Slice by row and then by column\n",
        "A[[0,2],[1,2]]"
      ],
      "execution_count": null,
      "outputs": [
        {
          "output_type": "execute_result",
          "data": {
            "text/plain": [
              "array([2., 9.])"
            ]
          },
          "metadata": {},
          "execution_count": 31
        }
      ]
    },
    {
      "cell_type": "markdown",
      "metadata": {
        "id": "BfRzbPUXfGKQ"
      },
      "source": [
        "#### Resize and reshape matrix\n",
        "The matrix will be truncated or element values will be repeated if the reshape causes the matrix to change size."
      ]
    },
    {
      "cell_type": "code",
      "metadata": {
        "id": "_YNyARm1fGKQ",
        "colab": {
          "base_uri": "https://localhost:8080/"
        },
        "outputId": "8a555b2e-b994-4621-eb61-e145bf275d57"
      },
      "source": [
        "x = (np.arange(9)+1).reshape(3,3)\n",
        "print(x)\n",
        "print('\\nresize smaller\\n {}'.format(np.resize(x,(2,2))))\n",
        "print('\\nresize bigger\\n {}'.format(np.resize(x,(4,4))))"
      ],
      "execution_count": null,
      "outputs": [
        {
          "output_type": "stream",
          "name": "stdout",
          "text": [
            "[[1 2 3]\n",
            " [4 5 6]\n",
            " [7 8 9]]\n",
            "\n",
            "resize smaller\n",
            " [[1 2]\n",
            " [3 4]]\n",
            "\n",
            "resize bigger\n",
            " [[1 2 3 4]\n",
            " [5 6 7 8]\n",
            " [9 1 2 3]\n",
            " [4 5 6 7]]\n"
          ]
        }
      ]
    },
    {
      "cell_type": "markdown",
      "metadata": {
        "id": "bdtCXeGxfGKS"
      },
      "source": [
        "#### Multiplying two matrices\n",
        "An 1-dimensional array is treated as a vector."
      ]
    },
    {
      "cell_type": "code",
      "metadata": {
        "id": "YOFS8ioofGKT",
        "colab": {
          "base_uri": "https://localhost:8080/"
        },
        "outputId": "57a84e60-a593-433d-e10c-c05f8e005873"
      },
      "source": [
        "# a vector/array y\n",
        "y = np.arange(4)\n",
        "y"
      ],
      "execution_count": null,
      "outputs": [
        {
          "output_type": "execute_result",
          "data": {
            "text/plain": [
              "array([0, 1, 2, 3])"
            ]
          },
          "metadata": {},
          "execution_count": 34
        }
      ]
    },
    {
      "cell_type": "code",
      "metadata": {
        "id": "mEWuYjlxfGKV",
        "colab": {
          "base_uri": "https://localhost:8080/"
        },
        "outputId": "9a1a61b8-1d9a-4f63-b21c-8ddbd23440dc"
      },
      "source": [
        "# a matrix of ones\n",
        "x = np.ones(16).reshape(4,4)\n",
        "x"
      ],
      "execution_count": null,
      "outputs": [
        {
          "output_type": "execute_result",
          "data": {
            "text/plain": [
              "array([[1., 1., 1., 1.],\n",
              "       [1., 1., 1., 1.],\n",
              "       [1., 1., 1., 1.],\n",
              "       [1., 1., 1., 1.]])"
            ]
          },
          "metadata": {},
          "execution_count": 35
        }
      ]
    },
    {
      "cell_type": "code",
      "metadata": {
        "id": "d0707PxPfGKX",
        "colab": {
          "base_uri": "https://localhost:8080/"
        },
        "outputId": "740ad24e-99f8-42c3-97d5-309c4719b47a"
      },
      "source": [
        "x*y"
      ],
      "execution_count": null,
      "outputs": [
        {
          "output_type": "execute_result",
          "data": {
            "text/plain": [
              "array([[0., 1., 2., 3.],\n",
              "       [0., 1., 2., 3.],\n",
              "       [0., 1., 2., 3.],\n",
              "       [0., 1., 2., 3.]])"
            ]
          },
          "metadata": {},
          "execution_count": 36
        }
      ]
    },
    {
      "cell_type": "code",
      "metadata": {
        "id": "EJPYn6rEfGKZ",
        "colab": {
          "base_uri": "https://localhost:8080/"
        },
        "outputId": "029073b0-1f0f-4ffd-e0bd-b365b4e65c25"
      },
      "source": [
        "x*y.T   # interpreted as x*(y.T)"
      ],
      "execution_count": null,
      "outputs": [
        {
          "output_type": "execute_result",
          "data": {
            "text/plain": [
              "array([[0., 1., 2., 3.],\n",
              "       [0., 1., 2., 3.],\n",
              "       [0., 1., 2., 3.],\n",
              "       [0., 1., 2., 3.]])"
            ]
          },
          "metadata": {},
          "execution_count": 37
        }
      ]
    },
    {
      "cell_type": "code",
      "metadata": {
        "id": "Tsl6MbI2fGKc",
        "colab": {
          "base_uri": "https://localhost:8080/"
        },
        "outputId": "6e3abe92-d7d0-41ba-d845-fd8769ee9121"
      },
      "source": [
        "y*x"
      ],
      "execution_count": null,
      "outputs": [
        {
          "output_type": "execute_result",
          "data": {
            "text/plain": [
              "array([[0., 1., 2., 3.],\n",
              "       [0., 1., 2., 3.],\n",
              "       [0., 1., 2., 3.],\n",
              "       [0., 1., 2., 3.]])"
            ]
          },
          "metadata": {},
          "execution_count": 38
        }
      ]
    },
    {
      "cell_type": "code",
      "metadata": {
        "id": "fNTRR8DwfGKe",
        "colab": {
          "base_uri": "https://localhost:8080/"
        },
        "outputId": "c254c3ae-9800-4f81-d3d2-8ce515037e66"
      },
      "source": [
        "y.T*x"
      ],
      "execution_count": null,
      "outputs": [
        {
          "output_type": "execute_result",
          "data": {
            "text/plain": [
              "array([[0., 1., 2., 3.],\n",
              "       [0., 1., 2., 3.],\n",
              "       [0., 1., 2., 3.],\n",
              "       [0., 1., 2., 3.]])"
            ]
          },
          "metadata": {},
          "execution_count": 39
        }
      ]
    },
    {
      "cell_type": "code",
      "metadata": {
        "id": "vi5kt5OufGKg",
        "colab": {
          "base_uri": "https://localhost:8080/"
        },
        "outputId": "a49efed1-7474-41af-fcbe-cb0c5e38880d"
      },
      "source": [
        "x = np.arange(4).reshape(2,2)\n",
        "y1 = np.arange(2)\n",
        "y2 = np.arange(2).reshape(1,2) # in numpy this is the same as y1\n",
        "print('x:\\n{}\\n'.format(x))\n",
        "print('y1:\\n{}\\n'.format(y1))\n",
        "print('y2:\\n{}\\n'.format(y2))"
      ],
      "execution_count": null,
      "outputs": [
        {
          "output_type": "stream",
          "name": "stdout",
          "text": [
            "x:\n",
            "[[0 1]\n",
            " [2 3]]\n",
            "\n",
            "y1:\n",
            "[0 1]\n",
            "\n",
            "y2:\n",
            "[[0 1]]\n",
            "\n"
          ]
        }
      ]
    },
    {
      "cell_type": "code",
      "metadata": {
        "id": "-1k0CFOIfGKi",
        "colab": {
          "base_uri": "https://localhost:8080/"
        },
        "outputId": "f58e0b8a-8fe1-4c16-8844-458e5b5f6502"
      },
      "source": [
        "x*y1"
      ],
      "execution_count": null,
      "outputs": [
        {
          "output_type": "execute_result",
          "data": {
            "text/plain": [
              "array([[0, 1],\n",
              "       [0, 3]])"
            ]
          },
          "metadata": {},
          "execution_count": 41
        }
      ]
    },
    {
      "cell_type": "code",
      "metadata": {
        "id": "EW90NQ6nfGKk",
        "colab": {
          "base_uri": "https://localhost:8080/"
        },
        "outputId": "5a045d49-a5a6-4045-df58-a8e2dd87529c"
      },
      "source": [
        "x*y2"
      ],
      "execution_count": null,
      "outputs": [
        {
          "output_type": "execute_result",
          "data": {
            "text/plain": [
              "array([[0, 1],\n",
              "       [0, 3]])"
            ]
          },
          "metadata": {},
          "execution_count": 42
        }
      ]
    },
    {
      "cell_type": "code",
      "metadata": {
        "id": "ban5G53YfGKm",
        "colab": {
          "base_uri": "https://localhost:8080/"
        },
        "outputId": "c357d64c-6368-4dcc-ecc5-b12568593642"
      },
      "source": [
        "# generate two matrices\n",
        "a = np.arange(10).reshape(2,5)\n",
        "b = np.arange(15).reshape(5,3)\n",
        "print(a)\n",
        "print()\n",
        "print(b)"
      ],
      "execution_count": null,
      "outputs": [
        {
          "output_type": "stream",
          "name": "stdout",
          "text": [
            "[[0 1 2 3 4]\n",
            " [5 6 7 8 9]]\n",
            "\n",
            "[[ 0  1  2]\n",
            " [ 3  4  5]\n",
            " [ 6  7  8]\n",
            " [ 9 10 11]\n",
            " [12 13 14]]\n"
          ]
        }
      ]
    },
    {
      "cell_type": "code",
      "metadata": {
        "id": "iXVjcn_ffGKp",
        "colab": {
          "base_uri": "https://localhost:8080/"
        },
        "outputId": "1f776fca-8aba-41dc-a41d-b4589a671c03"
      },
      "source": [
        "# check if operation dot is equal to operation matmul\n",
        "np.array_equal(np.dot(a,b),np.matmul(a,b))"
      ],
      "execution_count": null,
      "outputs": [
        {
          "output_type": "execute_result",
          "data": {
            "text/plain": [
              "True"
            ]
          },
          "metadata": {},
          "execution_count": 44
        }
      ]
    },
    {
      "cell_type": "code",
      "metadata": {
        "id": "M31vWN03fGKs",
        "colab": {
          "base_uri": "https://localhost:8080/"
        },
        "outputId": "d0bb19c8-ea53-4768-cb6c-468d25cdd2c0"
      },
      "source": [
        "# multiply a by b\n",
        "np.matmul(a,b)"
      ],
      "execution_count": null,
      "outputs": [
        {
          "output_type": "execute_result",
          "data": {
            "text/plain": [
              "array([[ 90, 100, 110],\n",
              "       [240, 275, 310]])"
            ]
          },
          "metadata": {},
          "execution_count": 45
        }
      ]
    },
    {
      "cell_type": "code",
      "metadata": {
        "id": "4jhyA0VYfGKv",
        "colab": {
          "base_uri": "https://localhost:8080/"
        },
        "outputId": "efd72ee4-4eaf-4564-8624-0109e77bd280"
      },
      "source": [
        "# another way to multiply a by b\n",
        "a@b"
      ],
      "execution_count": null,
      "outputs": [
        {
          "output_type": "execute_result",
          "data": {
            "text/plain": [
              "array([[ 90, 100, 110],\n",
              "       [240, 275, 310]])"
            ]
          },
          "metadata": {},
          "execution_count": 46
        }
      ]
    },
    {
      "cell_type": "code",
      "metadata": {
        "id": "HbJu-_fLfGK0",
        "colab": {
          "base_uri": "https://localhost:8080/"
        },
        "outputId": "ea66175b-111f-4634-8cac-f445605e5826"
      },
      "source": [
        "a = np.arange(9).reshape(3,3)\n",
        "b = np.arange(3)\n",
        "print('{}\\n\\n{}'.format(a,b))"
      ],
      "execution_count": null,
      "outputs": [
        {
          "output_type": "stream",
          "name": "stdout",
          "text": [
            "[[0 1 2]\n",
            " [3 4 5]\n",
            " [6 7 8]]\n",
            "\n",
            "[0 1 2]\n"
          ]
        }
      ]
    },
    {
      "cell_type": "code",
      "metadata": {
        "id": "2Cxjq5WFfGK4",
        "colab": {
          "base_uri": "https://localhost:8080/"
        },
        "outputId": "f9a8e10e-22aa-41c9-ce24-a7ef78ff5f37"
      },
      "source": [
        "# inner product of 2 vectors\n",
        "np.inner(a,b)"
      ],
      "execution_count": null,
      "outputs": [
        {
          "output_type": "execute_result",
          "data": {
            "text/plain": [
              "array([ 5, 14, 23])"
            ]
          },
          "metadata": {},
          "execution_count": 48
        }
      ]
    },
    {
      "cell_type": "code",
      "metadata": {
        "id": "AuSfLhm2fGK8",
        "colab": {
          "base_uri": "https://localhost:8080/"
        },
        "outputId": "b4ed2d13-00b6-4f63-82e8-5628f91c9089"
      },
      "source": [
        "# outer product of 2 vectors\n",
        "np.outer(a,b)"
      ],
      "execution_count": null,
      "outputs": [
        {
          "output_type": "execute_result",
          "data": {
            "text/plain": [
              "array([[ 0,  0,  0],\n",
              "       [ 0,  1,  2],\n",
              "       [ 0,  2,  4],\n",
              "       [ 0,  3,  6],\n",
              "       [ 0,  4,  8],\n",
              "       [ 0,  5, 10],\n",
              "       [ 0,  6, 12],\n",
              "       [ 0,  7, 14],\n",
              "       [ 0,  8, 16]])"
            ]
          },
          "metadata": {},
          "execution_count": 49
        }
      ]
    },
    {
      "cell_type": "markdown",
      "metadata": {
        "id": "bQda4F4EfGK_"
      },
      "source": [
        "#### Solving linear equations\n",
        "An example: Solve three linear equations with 3 unknowns as follows:<br>\n",
        "$x_1 + 2x_2 + 3x_3 = 10$<br>\n",
        "$4x_1 + 4x_2 + 5x_3=4$<br>\n",
        "$3x_1 + 8x_2 + 9x_3 = 3$<br>\n",
        "\n",
        "We have a linear equation to solve as in the form $Ax = B$, where\n",
        "\\begin{equation*}\n",
        "A =\n",
        "\\begin{pmatrix}\n",
        "1 & 2 & 3 \\\\\n",
        "4 & 4 & 5 \\\\\n",
        "3 & 8 & 9\n",
        "\\end{pmatrix}\n",
        ",\n",
        "B =\n",
        "\\begin{pmatrix}\n",
        "10 \\\\\n",
        "4 \\\\\n",
        "3\n",
        "\\end{pmatrix}\n",
        ",\n",
        "x =\n",
        "\\begin{pmatrix}\n",
        "x_1 \\\\\n",
        "x_2 \\\\\n",
        "x_3\n",
        "\\end{pmatrix}\n",
        "\\end{equation*}\n",
        "\n",
        "<br>\n",
        "In simple cases with small matrices, we can do $x = A^{-1}B$."
      ]
    },
    {
      "cell_type": "code",
      "metadata": {
        "id": "PLS1GVLMfGLA",
        "colab": {
          "base_uri": "https://localhost:8080/"
        },
        "outputId": "a0ccddc0-73c0-4a89-ba6c-da0da3e0d9a8"
      },
      "source": [
        "A = np.array([[1,2,3],[4,4,5],[3,8,9]])\n",
        "B = np.array([10,4,3])\n",
        "A_inv = np.linalg.inv(A)\n",
        "A_inv"
      ],
      "execution_count": 8,
      "outputs": [
        {
          "output_type": "execute_result",
          "data": {
            "text/plain": [
              "array([[-2.85714286e-01,  4.28571429e-01, -1.42857143e-01],\n",
              "       [-1.50000000e+00, -6.66133815e-17,  5.00000000e-01],\n",
              "       [ 1.42857143e+00, -1.42857143e-01, -2.85714286e-01]])"
            ]
          },
          "metadata": {},
          "execution_count": 8
        }
      ]
    },
    {
      "cell_type": "code",
      "metadata": {
        "id": "2_Rev7MEfGLC",
        "colab": {
          "base_uri": "https://localhost:8080/"
        },
        "outputId": "6a65751e-840e-4dd2-f368-d4e9b8ce9d68"
      },
      "source": [
        "x = np.dot(A_inv, B)\n",
        "print(x)"
      ],
      "execution_count": 17,
      "outputs": [
        {
          "output_type": "stream",
          "name": "stdout",
          "text": [
            "[[-1.01190476]\n",
            " [ 0.20833333]\n",
            " [ 0.26785714]\n",
            " [ 1.95833333]]\n"
          ]
        }
      ]
    },
    {
      "cell_type": "code",
      "metadata": {
        "id": "e-oPmxrSfGLF",
        "colab": {
          "base_uri": "https://localhost:8080/"
        },
        "outputId": "626e76e4-93eb-4ab7-9459-da461c14b266"
      },
      "source": [
        "# check results with allclose() function)\n",
        "np.allclose(np.dot(A,x),B)"
      ],
      "execution_count": 10,
      "outputs": [
        {
          "output_type": "execute_result",
          "data": {
            "text/plain": [
              "True"
            ]
          },
          "metadata": {},
          "execution_count": 10
        }
      ]
    },
    {
      "cell_type": "markdown",
      "metadata": {
        "id": "Vbt-t8rpEP7R"
      },
      "source": [
        "-----"
      ]
    },
    {
      "cell_type": "markdown",
      "metadata": {
        "id": "77y-VVzxfGLH"
      },
      "source": [
        "\n",
        "## <font color='#008DFF'> **Question 1**\n",
        "\n",
        "Write code for solving four linear equations with 4 unknowns as follows:<br>\n",
        "$x_1 + 2x_2 + 3x_3 + 5x_4 = 10$<br>\n",
        "$4x_1 + 4x_2 + 5x_3 + 3x_4=4$<br>\n",
        "$3x_1 + 8x_2 + 9x_3 + x_4= 3$<br>\n",
        "$x_1 + x_2 + 3x_3 = 7$<br><br>\n",
        "\n",
        "Afterwards, check results with allclose( ) function, and print out x.\n",
        "\n",
        "<b>Expected result</b><br>x = array([-1.17857143, -3.875     ,  4.01785714,  1.375     ])\n"
      ]
    },
    {
      "cell_type": "code",
      "metadata": {
        "id": "A0wIhEbW04b7",
        "colab": {
          "base_uri": "https://localhost:8080/"
        },
        "outputId": "bb1f4631-c581-45bd-8949-9abfd3199483"
      },
      "source": [
        "# Coefficients matrix\n",
        "A = np.array([[1, 2, 3, 5], [4, 4, 5, 3],[3, 8, 9, 1], [1, 1, 3, 0]])\n",
        "b = np.array([10, 4, 3, 7])\n",
        "\n",
        "#Solving the linear equations\n",
        "A_inv = np.linalg.inv(A)\n",
        "x = np.dot(A_inv, b)\n",
        "print(\"Solved result: x =\", x)\n",
        "\n",
        "# Check results with allclose function\n",
        "np.allclose(np.dot(A,x),b)\n"
      ],
      "execution_count": 26,
      "outputs": [
        {
          "output_type": "stream",
          "name": "stdout",
          "text": [
            "Solved result: x = [-1.17857143 -3.875       4.01785714  1.375     ]\n"
          ]
        },
        {
          "output_type": "execute_result",
          "data": {
            "text/plain": [
              "True"
            ]
          },
          "metadata": {},
          "execution_count": 26
        }
      ]
    },
    {
      "cell_type": "code",
      "source": [
        "# Grader's area\n",
        "#\n",
        "# Here we have only part, so this grade is assigned in M[1,1]\n",
        "# assign the grade and then uncomment the following\n",
        "\n",
        "# M[1,1] =\n",
        "\n",
        "maxScore = maxScore +4;"
      ],
      "metadata": {
        "id": "77c5jSREdt9K"
      },
      "execution_count": null,
      "outputs": []
    },
    {
      "cell_type": "markdown",
      "source": [
        "-----------------\n",
        "-----------------\n",
        "-----------------\n",
        "-----------------"
      ],
      "metadata": {
        "id": "DKD1e5IvkXJz"
      }
    },
    {
      "cell_type": "markdown",
      "metadata": {
        "id": "hH8NLj_UfGLK"
      },
      "source": [
        "## **Part 2: Exploring some data**"
      ]
    },
    {
      "cell_type": "markdown",
      "source": [
        "In this exercise we will be using the 'Boston Housing' dataset. This is an infamous dataset, due to one of its data attributes being the percentage of Black inhabitants of a given town. This dataset has now been removed from official distributions of certain tools (including scikit-learn), but it is still around to remind us how human learned bias can enter Machine Learning pipelines and have unintended (or in some cases, horribly intended) consequences."
      ],
      "metadata": {
        "id": "Wq8IS0kDeOLz"
      }
    },
    {
      "cell_type": "code",
      "metadata": {
        "id": "yJ9yDB9ufGLL",
        "colab": {
          "base_uri": "https://localhost:8080/"
        },
        "outputId": "80ddf2ff-7de5-43ca-d39b-794e17e24fb9"
      },
      "source": [
        "# Boston Housing dataset is no longer available in scikit-learn as of version 1.2\n",
        "# Reading directly using the source URL, with the description omitted.\n",
        "# For more information, view the original source file.\n",
        "\n",
        "# Deprecated scikit-learn 1.1 version:\n",
        "\n",
        "#from sklearn.datasets import load_boston\n",
        "#ds = load_boston()\n",
        "#samples, label, feature_names = ds.data, ds.target, ds.feature_names\n",
        "#print(samples.shape)\n",
        "#print(feature_names)\n",
        "\n",
        "import pandas as pd\n",
        "import numpy as np\n",
        "\n",
        "data_url = \"http://lib.stat.cmu.edu/datasets/boston\"\n",
        "ds = pd.read_csv(data_url, sep=\"\\s+\", skiprows=22, header=None)\n",
        "samples = np.hstack([ds.values[::2, :], ds.values[1::2, :2]])\n",
        "label = ds.values[1::2, 2]\n",
        "\n",
        "samples\n"
      ],
      "execution_count": 6,
      "outputs": [
        {
          "output_type": "execute_result",
          "data": {
            "text/plain": [
              "array([[6.3200e-03, 1.8000e+01, 2.3100e+00, ..., 1.5300e+01, 3.9690e+02,\n",
              "        4.9800e+00],\n",
              "       [2.7310e-02, 0.0000e+00, 7.0700e+00, ..., 1.7800e+01, 3.9690e+02,\n",
              "        9.1400e+00],\n",
              "       [2.7290e-02, 0.0000e+00, 7.0700e+00, ..., 1.7800e+01, 3.9283e+02,\n",
              "        4.0300e+00],\n",
              "       ...,\n",
              "       [6.0760e-02, 0.0000e+00, 1.1930e+01, ..., 2.1000e+01, 3.9690e+02,\n",
              "        5.6400e+00],\n",
              "       [1.0959e-01, 0.0000e+00, 1.1930e+01, ..., 2.1000e+01, 3.9345e+02,\n",
              "        6.4800e+00],\n",
              "       [4.7410e-02, 0.0000e+00, 1.1930e+01, ..., 2.1000e+01, 3.9690e+02,\n",
              "        7.8800e+00]])"
            ]
          },
          "metadata": {},
          "execution_count": 6
        }
      ]
    },
    {
      "cell_type": "code",
      "metadata": {
        "id": "635Xsy-CfGLO",
        "colab": {
          "base_uri": "https://localhost:8080/"
        },
        "outputId": "15299885-03b5-4e51-9441-428fe55650ef"
      },
      "source": [
        "# Data description\n",
        "\n",
        "# Deprecated scikit-learn 1.1 version:\n",
        "#\n",
        "# print(ds.DESCR)\n",
        "\n",
        "import requests\n",
        "\n",
        "lines = requests.get(data_url).text.splitlines()\n",
        "for i, line in enumerate(lines[:22]):\n",
        "    print(line)"
      ],
      "execution_count": 7,
      "outputs": [
        {
          "output_type": "stream",
          "name": "stdout",
          "text": [
            " The Boston house-price data of Harrison, D. and Rubinfeld, D.L. 'Hedonic\n",
            " prices and the demand for clean air', J. Environ. Economics & Management,\n",
            " vol.5, 81-102, 1978.   Used in Belsley, Kuh & Welsch, 'Regression diagnostics\n",
            " ...', Wiley, 1980.   N.B. Various transformations are used in the table on\n",
            " pages 244-261 of the latter.\n",
            "\n",
            " Variables in order:\n",
            " CRIM     per capita crime rate by town\n",
            " ZN       proportion of residential land zoned for lots over 25,000 sq.ft.\n",
            " INDUS    proportion of non-retail business acres per town\n",
            " CHAS     Charles River dummy variable (= 1 if tract bounds river; 0 otherwise)\n",
            " NOX      nitric oxides concentration (parts per 10 million)\n",
            " RM       average number of rooms per dwelling\n",
            " AGE      proportion of owner-occupied units built prior to 1940\n",
            " DIS      weighted distances to five Boston employment centres\n",
            " RAD      index of accessibility to radial highways\n",
            " TAX      full-value property-tax rate per $10,000\n",
            " PTRATIO  pupil-teacher ratio by town\n",
            " B        1000(Bk - 0.63)^2 where Bk is the proportion of blacks by town\n",
            " LSTAT    % lower status of the population\n",
            " MEDV     Median value of owner-occupied homes in $1000's\n",
            "\n"
          ]
        }
      ]
    },
    {
      "cell_type": "code",
      "metadata": {
        "id": "rR8jIWSafGLR",
        "colab": {
          "base_uri": "https://localhost:8080/"
        },
        "outputId": "7f936f17-9c49-475a-c08c-94d7fe7db2ec"
      },
      "source": [
        "# check to see if there is any null data\n",
        "np.isnan(np.sum(samples))"
      ],
      "execution_count": 8,
      "outputs": [
        {
          "output_type": "execute_result",
          "data": {
            "text/plain": [
              "False"
            ]
          },
          "metadata": {},
          "execution_count": 8
        }
      ]
    },
    {
      "cell_type": "code",
      "metadata": {
        "id": "QMjtimPhfGLT"
      },
      "source": [
        "# set print options to make things look nicer\n",
        "np.set_printoptions(suppress=True, linewidth=125)"
      ],
      "execution_count": 9,
      "outputs": []
    },
    {
      "cell_type": "code",
      "metadata": {
        "id": "hwXoQA_rfGLY",
        "colab": {
          "base_uri": "https://localhost:8080/"
        },
        "outputId": "ebf29da4-0481-4679-9fa4-b5eaac69208d"
      },
      "source": [
        "# find median, variance of the data and put it out in nice looking format\n",
        "median = np.round(np.median(samples, axis=0), decimals=1)\n",
        "variance = np.round(np.var(samples, axis=0), decimals=1)\n",
        "basic_stats = np.vstack((median, variance))\n",
        "basic_stats_label = ['  median','variance']\n",
        "print('\\t\\tCRIM\\tZN\\tINDUS\\tCHAS\\tNOX\\tRM\\tAGE\\tDIS\\tRAD\\tTAX\\tPTRATIO\\tB\\tLSTAT')\n",
        "for basic_stats_label, row in zip(basic_stats_label, basic_stats):\n",
        "    print('{} [\\t{}]'.format(basic_stats_label,\"\".join('%s\\t'%i for i in row)))"
      ],
      "execution_count": 10,
      "outputs": [
        {
          "output_type": "stream",
          "name": "stdout",
          "text": [
            "\t\tCRIM\tZN\tINDUS\tCHAS\tNOX\tRM\tAGE\tDIS\tRAD\tTAX\tPTRATIO\tB\tLSTAT\n",
            "  median [\t0.3\t0.0\t9.7\t0.0\t0.5\t6.2\t77.5\t3.2\t5.0\t330.0\t19.0\t391.4\t11.4\t]\n",
            "variance [\t73.8\t542.9\t47.0\t0.1\t0.0\t0.5\t790.8\t4.4\t75.7\t28348.6\t4.7\t8318.3\t50.9\t]\n"
          ]
        }
      ]
    },
    {
      "cell_type": "markdown",
      "metadata": {
        "id": "VS5mKl2lfGLb"
      },
      "source": [
        "## <font color='#008DFF'>  **Question 2**\n",
        "\n",
        "Use function <code>stats.describe</code> to retrieve the max, min, and average of samples, and then display it as in the expected output: <br><br>\n",
        "\n",
        "<b>Expected Output:</b> Something that looks like the following or better: <br>\n",
        "<code>\t CRIM\tZN\tINDUS\tCHAS\tNOX\tRM\tAGE\tDIS\tRAD\tTAX\tPTRATIO\tB\tLSTAT\n",
        " min [\t0.0\t0.0\t0.5\t0.0\t0.4\t3.6\t2.9\t1.1\t1.0\t187.0\t12.6\t0.3\t1.7\t]\n",
        " max [\t89.0\t100.0\t27.7\t1.0\t0.9\t8.8\t100.0\t12.1\t24.0\t711.0\t22.0\t396.9\t38.0\t]\n",
        "mean [\t3.6\t11.4\t11.1\t0.1\t0.6\t6.3\t68.6\t3.8\t9.5\t408.2\t18.5\t356.7\t12.7\t]\n",
        "</code>\n",
        "\n",
        "<b>Answer</b>:"
      ]
    },
    {
      "cell_type": "code",
      "metadata": {
        "id": "OkNtSOsIfGLb",
        "colab": {
          "base_uri": "https://localhost:8080/"
        },
        "outputId": "33693063-1262-4430-814f-088ac5c58382"
      },
      "source": [
        "# Your code here. Add more cells if needed\n",
        "from scipy import stats\n",
        "\n",
        "#finding the max, min, and mean of samples\n",
        "max = np.round(np.max(samples, axis=0), decimals=1)\n",
        "min = np.round(np.min(samples, axis=0), decimals=1)\n",
        "mean = np.round(np.mean(samples, axis=0), decimals=1)\n",
        "\n",
        "b_stats = np.vstack((min, max, mean))\n",
        "b_stats_label = ['min','max','mean']\n",
        "\n",
        "print('\\t\\tCRIM\\tZN\\tINDUS\\tCHAS\\tNOX\\tRM\\tAGE\\tDIS\\tRAD\\tTAX\\tPTRATIO\\tB\\tLSTAT')\n",
        "for b_stats_label, row in zip(b_stats_label, b_stats):\n",
        "    print('{} [\\t{}]'.format(b_stats_label,\"\".join('%s\\t'%i for i in row)))\n",
        "#look up stats.describe\n",
        "\n",
        "\n",
        "\n"
      ],
      "execution_count": 11,
      "outputs": [
        {
          "output_type": "stream",
          "name": "stdout",
          "text": [
            "\t\tCRIM\tZN\tINDUS\tCHAS\tNOX\tRM\tAGE\tDIS\tRAD\tTAX\tPTRATIO\tB\tLSTAT\n",
            "min [\t0.0\t0.0\t0.5\t0.0\t0.4\t3.6\t2.9\t1.1\t1.0\t187.0\t12.6\t0.3\t1.7\t]\n",
            "max [\t89.0\t100.0\t27.7\t1.0\t0.9\t8.8\t100.0\t12.1\t24.0\t711.0\t22.0\t396.9\t38.0\t]\n",
            "mean [\t3.6\t11.4\t11.1\t0.1\t0.6\t6.3\t68.6\t3.8\t9.5\t408.2\t18.5\t356.7\t12.7\t]\n"
          ]
        }
      ]
    },
    {
      "cell_type": "code",
      "source": [
        "# Grader's area\n",
        "\n",
        "maxScore = maxScore + 4\n",
        "# M[2,1] ="
      ],
      "metadata": {
        "id": "zPnHTf9MfT5X"
      },
      "execution_count": null,
      "outputs": []
    },
    {
      "cell_type": "markdown",
      "metadata": {
        "id": "l3KaR1wZyRgK"
      },
      "source": [
        "-----------------\n",
        "-----------------\n",
        "-----------------\n",
        "-----------------"
      ]
    },
    {
      "cell_type": "code",
      "metadata": {
        "id": "FzOg-yJwfGLe",
        "colab": {
          "base_uri": "https://localhost:8080/",
          "height": 537
        },
        "outputId": "8b472a04-9085-4b9b-fa5f-60de78704de7"
      },
      "source": [
        "import matplotlib.pyplot as plt\n",
        "\n",
        "# let plot out to see what is the distribution of crime based on the data\n",
        "n, bins, patches = plt.hist(samples[:,0],bins='auto')\n",
        "plt.title('Distribution of crimes')\n",
        "plt.show()\n",
        "print('Bin sizes: {}'.format(n))"
      ],
      "execution_count": 12,
      "outputs": [
        {
          "output_type": "display_data",
          "data": {
            "text/plain": [
              "<Figure size 640x480 with 1 Axes>"
            ],
            "image/png": "[encoded data removed]"
          },
          "metadata": {}
        },
        {
          "output_type": "stream",
          "name": "stdout",
          "text": [
            "Bin sizes: [329.  26.  14.   9.  13.  12.  11.   9.   8.   9.   9.   6.   5.   4.   3.   7.   4.   4.   1.   1.   3.   1.   1.   1.\n",
            "   1.   1.   1.   3.   1.   0.   0.   1.   0.   0.   0.   0.   0.   0.   0.   0.   0.   1.   1.   0.   0.   0.   1.   0.\n",
            "   0.   0.   1.   0.   0.   0.   0.   0.   1.   0.   0.   0.   0.   0.   0.   0.   0.   0.   0.   0.   0.   0.   0.   0.\n",
            "   0.   0.   0.   1.   0.   0.   0.   0.   0.   1.   0.   0.   0.   0.   0.   0.   0.   0.   0.   0.   0.   0.   0.   0.\n",
            "   0.   0.   1.]\n"
          ]
        }
      ]
    },
    {
      "cell_type": "markdown",
      "metadata": {
        "id": "53VG7TETfGLg"
      },
      "source": [
        "\n",
        "## <font color='#008DFF'> <b>Question 3</b>\n",
        "\n",
        "Plot out the histogram of another feature of the dataset that you are interested in, give the plot a title, and print out the bin sizes. <br><br>\n",
        "<b>Answer</b>"
      ]
    },
    {
      "cell_type": "code",
      "metadata": {
        "id": "MALZsy3AfGLg",
        "colab": {
          "base_uri": "https://localhost:8080/",
          "height": 469
        },
        "outputId": "194e1961-ecfc-44e1-c684-78c681e5e817"
      },
      "source": [
        "# Your code here, add more cells if necessary\n",
        "import matplotlib.pyplot as plt\n",
        "\n",
        "# Showing distibution of\n",
        "n, bins, patches = plt.hist(samples[:,5],bins='auto')\n",
        "plt.title('Distribution of Age')\n",
        "plt.show()\n",
        "print('Bin sizes: {}'.format(n))\n"
      ],
      "execution_count": 13,
      "outputs": [
        {
          "output_type": "display_data",
          "data": {
            "text/plain": [
              "<Figure size 640x480 with 1 Axes>"
            ],
            "image/png": "[encoded data removed]"
          },
          "metadata": {}
        },
        {
          "output_type": "stream",
          "name": "stdout",
          "text": [
            "Bin sizes: [ 1.  1.  0.  2.  1.  2.  1.  8.  5.  7. 17. 34. 56. 65. 75. 62. 42. 35. 26. 16. 15.  9.  4.  7.  4.  1.  7.  0.  3.]\n"
          ]
        }
      ]
    },
    {
      "cell_type": "code",
      "source": [
        "# Grader's area\n",
        "\n",
        "maxScore = maxScore+4\n",
        "# M[3,1] ="
      ],
      "metadata": {
        "id": "rGw6wsAfkHzL"
      },
      "execution_count": null,
      "outputs": []
    },
    {
      "cell_type": "markdown",
      "metadata": {
        "id": "cDbu6VbOxzNJ"
      },
      "source": [
        "------------------\n",
        "------------------\n",
        "------------------\n",
        "------------------\n",
        "\n",
        "\n",
        "\n",
        "\n"
      ]
    },
    {
      "cell_type": "code",
      "metadata": {
        "id": "yTYkJsHgfGLk",
        "colab": {
          "base_uri": "https://localhost:8080/"
        },
        "outputId": "46fd81bc-7f8b-43fe-ffc2-8412f0fe7285"
      },
      "source": [
        "def house_with_defined_age(dataset,age):\n",
        "    '''This function will return indices of all houses with proportion of owner-occupied units built prior to 1940 greater than age%'''\n",
        "    ids = []\n",
        "    for id, record in enumerate(dataset):\n",
        "        if record[6]>age:\n",
        "            ids.append(id)\n",
        "    return ids\n",
        "\n",
        "\n",
        "# list out all records with units built prior to 1940 greater than 50%\n",
        "samples[house_with_defined_age(samples,50)]"
      ],
      "execution_count": 14,
      "outputs": [
        {
          "output_type": "execute_result",
          "data": {
            "text/plain": [
              "array([[  0.00632,  18.     ,   2.31   , ...,  15.3    , 396.9    ,   4.98   ],\n",
              "       [  0.02731,   0.     ,   7.07   , ...,  17.8    , 396.9    ,   9.14   ],\n",
              "       [  0.02729,   0.     ,   7.07   , ...,  17.8    , 392.83   ,   4.03   ],\n",
              "       ...,\n",
              "       [  0.06076,   0.     ,  11.93   , ...,  21.     , 396.9    ,   5.64   ],\n",
              "       [  0.10959,   0.     ,  11.93   , ...,  21.     , 393.45   ,   6.48   ],\n",
              "       [  0.04741,   0.     ,  11.93   , ...,  21.     , 396.9    ,   7.88   ]])"
            ]
          },
          "metadata": {},
          "execution_count": 14
        }
      ]
    },
    {
      "cell_type": "markdown",
      "metadata": {
        "id": "N3zhYgVKfGLm"
      },
      "source": [
        "\n",
        "## <font color='#008DFF'> **Question 4**\n",
        "\n",
        "Write a function that takes as input the given dataset and two numbers $a$ and $b$, and returns the IDs of houses for which tax is either less than $a$ or more than $b$. Demonstrate how the function runs with two specific inputs $a$ and $b$ of your choice.\n",
        "\n"
      ]
    },
    {
      "cell_type": "code",
      "metadata": {
        "id": "6_0OKNXtfGLn",
        "colab": {
          "base_uri": "https://localhost:8080/"
        },
        "outputId": "23901f71-7845-410b-f052-136c5eed7ff2"
      },
      "source": [
        "# your code goes here\n",
        "import numpy as np\n",
        "\n",
        "def id_tax(samples, a, b):\n",
        "\n",
        "    tax = samples[:, 9]  #picking out tax column\n",
        "\n",
        "    # Find the IDs of houses for which tax is either less than a or more than b\n",
        "    house_ids = np.where((tax < a) | (tax > b))[0]\n",
        "\n",
        "    return house_ids\n",
        "\n",
        "# Example usage of the function with specific inputs a and b\n",
        "a = 200\n",
        "b = 400\n",
        "\n",
        "result = id_tax(samples, a, b)\n",
        "print(\"House IDs with tax less than\", a, \"or more than\", b, \":\", result)\n",
        "\n",
        "\n",
        "\n"
      ],
      "execution_count": 15,
      "outputs": [
        {
          "output_type": "stream",
          "name": "stdout",
          "text": [
            "House IDs with tax less than 200 or more than 400 : [ 54 111 112 113 114 115 116 117 118 119 120 121 122 123 124 125 126 127 128 129 130 131 132 133 134 135 136 137 138 139 140\n",
            " 141 142 143 144 145 146 147 148 149 150 151 152 153 154 155 156 157 158 159 160 161 162 163 164 165 166 167 168 169 170 171\n",
            " 179 180 181 182 183 184 185 186 199 200 283 328 329 330 342 351 352 353 356 357 358 359 360 361 362 363 364 365 366 367 368\n",
            " 369 370 371 372 373 374 375 376 377 378 379 380 381 382 383 384 385 386 387 388 389 390 391 392 393 394 395 396 397 398 399\n",
            " 400 401 402 403 404 405 406 407 408 409 410 411 412 413 414 415 416 417 418 419 420 421 422 423 424 425 426 427 428 429 430\n",
            " 431 432 433 434 435 436 437 438 439 440 441 442 443 444 445 446 447 448 449 450 451 452 453 454 455 456 457 458 459 460 461\n",
            " 462 463 464 465 466 467 468 469 470 471 472 473 474 475 476 477 478 479 480 481 482 483 484 485 486 487 488 489 490 491 492]\n"
          ]
        }
      ]
    },
    {
      "cell_type": "code",
      "metadata": {
        "id": "upNrvOZQAqVf",
        "colab": {
          "base_uri": "https://localhost:8080/",
          "height": 225
        },
        "outputId": "e20983fe-4846-4eaf-aba2-04f7672ec6e7"
      },
      "source": [
        "# Grader's area\n",
        "\n",
        "maxScore = maxScore + 4\n",
        "# M[4,1]="
      ],
      "execution_count": 16,
      "outputs": [
        {
          "output_type": "error",
          "ename": "NameError",
          "evalue": "name 'maxScore' is not defined",
          "traceback": [
            "\u001b[0;31m---------------------------------------------------------------------------\u001b[0m",
            "\u001b[0;31mNameError\u001b[0m                                 Traceback (most recent call last)",
            "\u001b[0;32m<ipython-input-16-6a27eeaa9537>\u001b[0m in \u001b[0;36m<cell line: 3>\u001b[0;34m()\u001b[0m\n\u001b[1;32m      1\u001b[0m \u001b[0;31m# Grader's area\u001b[0m\u001b[0;34m\u001b[0m\u001b[0;34m\u001b[0m\u001b[0m\n\u001b[1;32m      2\u001b[0m \u001b[0;34m\u001b[0m\u001b[0m\n\u001b[0;32m----> 3\u001b[0;31m \u001b[0mmaxScore\u001b[0m \u001b[0;34m=\u001b[0m \u001b[0mmaxScore\u001b[0m \u001b[0;34m+\u001b[0m \u001b[0;36m4\u001b[0m\u001b[0;34m\u001b[0m\u001b[0;34m\u001b[0m\u001b[0m\n\u001b[0m\u001b[1;32m      4\u001b[0m \u001b[0;31m# M[4,1]=\u001b[0m\u001b[0;34m\u001b[0m\u001b[0;34m\u001b[0m\u001b[0m\n",
            "\u001b[0;31mNameError\u001b[0m: name 'maxScore' is not defined"
          ]
        }
      ]
    },
    {
      "cell_type": "markdown",
      "source": [
        "------------------------------------------\n",
        "------------------------------------------\n",
        "------------------------------------------\n",
        "------------------------------------------"
      ],
      "metadata": {
        "id": "FwAL2fEc2cRP"
      }
    },
    {
      "cell_type": "markdown",
      "metadata": {
        "id": "0h4pDnxJ-06z"
      },
      "source": [
        "## **Part 3: *k*-NN simple implementation**\n",
        "\n",
        "Here we use a simple implementation of *k*-NN in order to understand how objects and methods work."
      ]
    },
    {
      "cell_type": "markdown",
      "source": [
        "## <font color='#008DFF'> **Question 5**\n",
        "\n"
      ],
      "metadata": {
        "id": "5ntY4Cih-qYl"
      }
    },
    {
      "cell_type": "code",
      "metadata": {
        "id": "EKQWqF-FAuky"
      },
      "source": [
        "# the following algorithm is an implementation of the kNN pseudocode we discussed in the lecture\n",
        "\n",
        "class kNN_classifier:\n",
        "  # the hyperparameters that define the object/algorithm\n",
        "  # these are given at initialization\n",
        "  def __init__(self,k, distance='euclidean'):\n",
        "    self.k = k\n",
        "    self.distance = distance\n",
        "\n",
        "\n",
        "  #here we define the methods of the knn classifier object\n",
        "\n",
        "  #the fit method takes as input the data and labels\n",
        "  def fit(self,X,y):\n",
        "    # siply save X, y as part of the object\n",
        "    # y is assumed to have labels 0 or 1 (binary classifier)\n",
        "    self.X = X\n",
        "    self.y = y\n",
        "\n",
        "\n",
        "\n",
        "  def predict(self,x):\n",
        "\n",
        "    # here we expect x to be a row vector of the same\n",
        "    # dimension as the rows of X. no checks are done.\n",
        "\n",
        "    n = self.X.shape[0]\n",
        "    S = []\n",
        "    for j in range(n):\n",
        "\n",
        "      if self.distance =='euclidean':\n",
        "        dst = np.linalg.norm(x-self.X[j,:])\n",
        "\n",
        "      S.append(dst)\n",
        "\n",
        "    # sort distances\n",
        "    prm = np.argsort(S)\n",
        "\n",
        "\n",
        "    c = 0\n",
        "    for j in range(self.k):\n",
        "      idx = prm[j]\n",
        "      if self.y[idx] == 1:\n",
        "        c = c+1\n",
        "\n",
        "    if c >= self.k//2:\n",
        "      return 1\n",
        "    else:\n",
        "      return 0\n"
      ],
      "execution_count": 26,
      "outputs": []
    },
    {
      "cell_type": "markdown",
      "source": [
        "### <font color='#008DFF'>  **Question 5(i)**\n",
        "\n",
        "Re-use the scatter plot code from the beginning of [notes](https://colab.research.google.com/drive/1NIHv_CoknQt3UcrMSezu7iUJEsEeyaaN?usp=drive_fs) from Module 1 (Introduction) in order to create a simple dataset with 2 blobs/clusters. Check whether the labels vectors contains 0s and 1s as needed by our *k*-NN code."
      ],
      "metadata": {
        "id": "6eUGohNI_JPS"
      }
    },
    {
      "cell_type": "code",
      "source": [
        "## your code goes here\n",
        "from IPython.display import Image\n",
        "from IPython.display import Math\n",
        "from IPython.display import Latex\n",
        "\n",
        "import matplotlib.pyplot as plt\n",
        "from sklearn.datasets import make_blobs\n",
        "import numpy as np\n",
        "\n",
        "\n",
        "\n",
        "# Plot the datasetX, Y = make_blobs(n_features=2, centers=2, random_state = 1)\n",
        "X, Y = make_blobs(n_features=2, centers=2, random_state = 1)\n",
        "plt.scatter(X[:, 0], X[:, 1], marker=\"o\", c=Y, s=25, edgecolor=\"k\")\n",
        "plt.xlabel('Feature 1')\n",
        "plt.ylabel('Feature 2')\n",
        "plt.title('2 Blobs/Clusters')\n",
        "plt.show()\n",
        "\n",
        "# Ensure that the labels vector contains 0s and 1s\n",
        "Y[Y == 0] = 0\n",
        "Y[Y == 1] = 1\n"
      ],
      "metadata": {
        "id": "bp4DLWmz8vXn",
        "colab": {
          "base_uri": "https://localhost:8080/",
          "height": 472
        },
        "outputId": "eaa42e12-6393-4b76-d942-585284ee72c7"
      },
      "execution_count": 23,
      "outputs": [
        {
          "output_type": "display_data",
          "data": {
            "text/plain": [
              "<Figure size 640x480 with 1 Axes>"
            ],
            "image/png": "[encoded data removed]"
          },
          "metadata": {}
        }
      ]
    },
    {
      "cell_type": "code",
      "source": [
        "# Grader's area\n",
        "\n",
        "maxScore = maxScore +5\n",
        "#M[5,1] =\n",
        "\n"
      ],
      "metadata": {
        "id": "NqpvrcbI_xG1"
      },
      "execution_count": null,
      "outputs": []
    },
    {
      "cell_type": "markdown",
      "source": [],
      "metadata": {
        "id": "knWS8oKD_9QI"
      }
    },
    {
      "cell_type": "markdown",
      "source": [
        "### <font color='#008DFF'>  **Question 5(ii)**\n",
        "\n",
        "Initialize a *k*-NN classifier using the class we wrote above. (Hint: see the [*k*-NN lab](https://colab.research.google.com/drive/1Mh6I3bR8pE90kcs28JfKok59NtfV_7ct?usp=drive_fs) for an example of how to initialize an object.)"
      ],
      "metadata": {
        "id": "SROYKfcm_9gk"
      }
    },
    {
      "cell_type": "code",
      "source": [
        "#Splitting data into 70% training and 30% test data: example splitting the sample\n",
        "\n",
        "from sklearn.model_selection import train_test_split\n",
        "\n",
        "# # All columns except the last one\n",
        "X = samples[:, [5, 7]]\n",
        "y = (samples[:, -10]).astype(int) # CHAS\n",
        "\n",
        "#Splitting data into 70% training and 30% test data: splitting the training and test set\n",
        "X_train, X_test, y_train, y_test = train_test_split(\n",
        "    X, y, test_size=0.3, random_state=1, stratify=y)\n",
        "\n",
        "\n",
        "# Scaling the features\n",
        "from sklearn.preprocessing import StandardScaler\n",
        "\n",
        "sc = StandardScaler()\n",
        "sc.fit(X_train)\n",
        "X_train_std = sc.transform(X_train)\n",
        "X_test_std = sc.transform(X_test)\n",
        "\n",
        "X_combined = np.vstack((X_train, X_test))\n",
        "X_combined_std = np.vstack((X_train_std, X_test_std))\n",
        "y_combined = np.hstack((y_train, y_test))\n",
        "\n",
        "#Inputing k and distance parameter, initializing the knn\n",
        "knn = kNN_classifier(k=3, distance='euclidean')\n",
        "knn.fit(X_train_std, y_train)\n"
      ],
      "metadata": {
        "id": "2Ni9kwJLAQUc"
      },
      "execution_count": 96,
      "outputs": []
    },
    {
      "cell_type": "code",
      "source": [
        "kNN_classifier(k=3, distance='euclidean')"
      ],
      "metadata": {
        "colab": {
          "base_uri": "https://localhost:8080/"
        },
        "id": "bHwEqwtcVm2M",
        "outputId": "e633c328-4c53-4f87-d6b7-7671a67653ae"
      },
      "execution_count": 97,
      "outputs": [
        {
          "output_type": "execute_result",
          "data": {
            "text/plain": [
              "<__main__.kNN_classifier at 0x7b2c87efdc60>"
            ]
          },
          "metadata": {},
          "execution_count": 97
        }
      ]
    },
    {
      "cell_type": "code",
      "source": [
        "# Grader's area\n",
        "\n",
        "maxScore = maxScore +5\n",
        "#M[5,2] =\n",
        "\n"
      ],
      "metadata": {
        "id": "701AcFiuAQUc"
      },
      "execution_count": null,
      "outputs": []
    },
    {
      "cell_type": "markdown",
      "source": [
        "### <font color='#008DFF'>  **Question 5(iii)**\n",
        "\n",
        "Add code in the *k*-NN classifier defined above, in order to handle the case when the hyperparameter *distance* is set to 'Manhattan'."
      ],
      "metadata": {
        "id": "6VchLMyhAaP5"
      }
    },
    {
      "cell_type": "code",
      "source": [
        "## your additional code goes here.\n",
        "## Please make a comment about where it should be added in the original code above\n",
        "import numpy as np\n",
        "\n",
        "class kNN_classifier:\n",
        "    def __init__(self, k, distance):\n",
        "        self.k = k\n",
        "        self.distance = distance\n",
        "\n",
        "    def fit(self, X, y):\n",
        "        self.X = X\n",
        "        self.y = y\n",
        "\n",
        "    def predict(self, x):\n",
        "        n = self.X.shape[0]\n",
        "        S = []\n",
        "        for j in range(n):\n",
        "            if self.distance == 'euclidean':\n",
        "                dst = np.linalg.norm(x - self.X[j, :])\n",
        "            elif self.distance == 'manhattan': # added code to find the manhattan distance\n",
        "                dst = np.sum(np.abs(x - self.X[j, :])) # if manhattan is specified it will preform this operation\n",
        "            else:\n",
        "                raise ValueError(\"Error: can only input 'euclidean' or 'manhattan'.\") #for errors\n",
        "            S.append(dst)\n",
        "\n",
        "        prm = np.argsort(S)\n",
        "\n",
        "        c = 0\n",
        "        for j in range(self.k):\n",
        "            idx = prm[j]\n",
        "            if self.y[idx] == 1:\n",
        "                c += 1\n",
        "\n",
        "        if c >= self.k // 2:\n",
        "            return 1\n",
        "        else:\n",
        "            return 0\n",
        "\n",
        "\n",
        "\n",
        "\n",
        "\n"
      ],
      "metadata": {
        "id": "_2w5NybMB6oT"
      },
      "execution_count": 79,
      "outputs": []
    },
    {
      "cell_type": "code",
      "source": [
        "# Grader's area\n",
        "\n",
        "maxScore = maxScore +5\n",
        "#M[5,3] =\n",
        "\n"
      ],
      "metadata": {
        "id": "HsiMfcevAqlW"
      },
      "execution_count": null,
      "outputs": []
    },
    {
      "cell_type": "markdown",
      "source": [
        "----------------------\n",
        "----------------------\n",
        "----------------------"
      ],
      "metadata": {
        "id": "oRMj1OX-B_fn"
      }
    },
    {
      "cell_type": "code",
      "source": [
        "#Grader's area\n",
        "\n",
        "rawScore = np.sum(M)\n",
        "score = rawScore*40/maxScore"
      ],
      "metadata": {
        "id": "IVkneTzYCAxs"
      },
      "execution_count": null,
      "outputs": []
    },
    {
      "cell_type": "code",
      "source": [],
      "metadata": {
        "id": "fo4TYoEFCSTt"
      },
      "execution_count": null,
      "outputs": []
    }
  ]
}